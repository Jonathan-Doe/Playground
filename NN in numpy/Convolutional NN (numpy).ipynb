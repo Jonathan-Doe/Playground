{
 "cells": [
  {
   "cell_type": "code",
   "execution_count": 3,
   "metadata": {},
   "outputs": [],
   "source": [
    "import numpy as np\n",
    "import matplotlib as plt\n",
    "\n",
    "\n",
    "%matplotlib inline\n",
    "plt.rcParams['figure.figsize'] = (5.0, 4.0) # set default size of plots\n",
    "plt.rcParams['image.interpolation'] = 'nearest'\n",
    "plt.rcParams['image.cmap'] = 'gray'\n",
    "\n",
    "%load_ext autoreload\n",
    "%autoreload 2\n",
    "\n",
    "np.random.seed(1)"
   ]
  },
  {
   "cell_type": "code",
   "execution_count": 41,
   "metadata": {},
   "outputs": [],
   "source": [
    "def zero_padding(X, p):\n",
    "    \"\"\"padding X with zeros\n",
    "    X - numpy array (batch_size, height, width, n_channels)\n",
    "    p - how many zeros pad around X\n",
    "    \n",
    "    Returns:\n",
    "    X_pad = numpy array (batch_size, height + 2p, width + 2p, n_channels)\n",
    "    \"\"\"\n",
    "    X_pad = np.pad(X, [(0,0), (p,p), (p,p), (0,0)], 'constant')\n",
    "                  \n",
    "    return X_pad"
   ]
  },
  {
   "cell_type": "code",
   "execution_count": 42,
   "metadata": {},
   "outputs": [
    {
     "name": "stdout",
     "output_type": "stream",
     "text": [
      "Initial shape - (4, 3, 3, 2)\n",
      "After padding - (4, 7, 7, 2)\n"
     ]
    }
   ],
   "source": [
    "a = np.random.randn(4,3,3,2)\n",
    "a_p = zero_padding(a,2)\n",
    "\n",
    "print(\"Initial shape - {}\".format(a.shape))\n",
    "print(\"After padding - {}\".format(a_p.shape))\n"
   ]
  },
  {
   "cell_type": "code",
   "execution_count": 45,
   "metadata": {},
   "outputs": [],
   "source": [
    "def conv_step(a_slice_prev, W,b):\n",
    "    \n",
    "    return np.sum(np.multiply(a_slice_prev,W)) + float(b)"
   ]
  },
  {
   "cell_type": "code",
   "execution_count": 47,
   "metadata": {},
   "outputs": [
    {
     "name": "stdout",
     "output_type": "stream",
     "text": [
      "Z = -6.999089450680221\n"
     ]
    }
   ],
   "source": [
    "np.random.seed(1)\n",
    "a_slice_prev = np.random.randn(4, 4, 3)\n",
    "W = np.random.randn(4, 4, 3)\n",
    "b = np.random.randn(1, 1, 1)\n",
    "\n",
    "Z = conv_step(a_slice_prev, W, b)\n",
    "print(\"Z =\", Z)"
   ]
  },
  {
   "cell_type": "code",
   "execution_count": 60,
   "metadata": {},
   "outputs": [],
   "source": [
    "def conv_forward(A,W,b,hparameters):\n",
    "    \"\"\"Implements the forward propagation for a convolution function\n",
    "    \n",
    "    Arguments:\n",
    "    A_prev -- output activations of the previous layer, numpy array of shape (m, n_H_prev, n_W_prev, n_C_prev)\n",
    "    W -- Weights, numpy array of shape (f, f, n_C_prev, n_C)\n",
    "    b -- Biases, numpy array of shape (1, 1, 1, n_C)\n",
    "    hparameters -- python dictionary containing \"stride\" and \"pad\"\n",
    "        \n",
    "    Returns:\n",
    "    Z -- conv output, numpy array of shape (m, n_H, n_W, n_C)\n",
    "    cache -- cache of values needed for the conv_backward() function\n",
    "    \"\"\"\n",
    "    \n",
    "    batch_size, height, width, n_channels = A.shape\n",
    "    f,f,n_filters,n_channels = W.shape\n",
    "    \n",
    "    pad, stride = hparameters['pad'], hparameters['stride']\n",
    "    A_pad = zero_padding(A,pad)\n",
    "    \n",
    "    result_height, result_width = int((height - f + 2 * pad) / stride) + 1, int((width - f + 2 * pad) / stride) + 1\n",
    "    \n",
    "    Z = np.zeros((batch_size,result_height, result_width,n_filters))\n",
    "    \n",
    "    for i in range(batch_size):\n",
    "        a_p = A_pad[i,:,:,:]\n",
    "        for j in range(result_width):\n",
    "            for k in range(result_height):\n",
    "                \n",
    "                vert_start = k * stride\n",
    "                horiz_start = j * stride\n",
    "                \n",
    "                vert_end = vert_start + f\n",
    "                horiz_end = horiz_start + f\n",
    "                \n",
    "                a_slice_p = a_p[vert_start:vert_end, horiz_start:horiz_end,:]\n",
    "                \n",
    "                for filter_ in range( n_filters):\n",
    "                    Z[i,k,j,filter_] = conv_step(a_slice_p, W[:,:,:,filter_],b[:,:,:,filter_])\n",
    "                    \n",
    "    cache = (A,W,b,hparameters)\n",
    "    return Z, cache"
   ]
  },
  {
   "cell_type": "code",
   "execution_count": 61,
   "metadata": {},
   "outputs": [
    {
     "name": "stdout",
     "output_type": "stream",
     "text": [
      "Z's mean = -0.1260359654114688\n",
      "Z[3,2,1] = [-0.61490741 -6.7439236  -2.55153897]\n",
      "cache_conv[0][1][2][3] = [-0.20075807  0.18656139  0.41005165]\n"
     ]
    }
   ],
   "source": [
    "np.random.seed(1)\n",
    "A_prev = np.random.randn(10,4,4,3)\n",
    "W = np.random.randn(2,2,3,8)\n",
    "b = np.random.randn(1,1,1,8)\n",
    "hparameters = {\"pad\" : 2,\n",
    "               \"stride\": 2}\n",
    "\n",
    "Z, cache_conv = conv_forward(A_prev, W, b, hparameters)\n",
    "print(\"Z's mean =\", np.mean(Z))\n",
    "print(\"Z[3,2,1] =\", Z[3,2,1])\n",
    "print(\"cache_conv[0][1][2][3] =\", cache_conv[0][1][2][3])"
   ]
  },
  {
   "cell_type": "code",
   "execution_count": null,
   "metadata": {},
   "outputs": [],
   "source": []
  },
  {
   "cell_type": "code",
   "execution_count": null,
   "metadata": {},
   "outputs": [],
   "source": []
  }
 ],
 "metadata": {
  "kernelspec": {
   "display_name": "Python 3",
   "language": "python",
   "name": "python3"
  },
  "language_info": {
   "codemirror_mode": {
    "name": "ipython",
    "version": 3
   },
   "file_extension": ".py",
   "mimetype": "text/x-python",
   "name": "python",
   "nbconvert_exporter": "python",
   "pygments_lexer": "ipython3",
   "version": "3.5.2"
  }
 },
 "nbformat": 4,
 "nbformat_minor": 2
}
