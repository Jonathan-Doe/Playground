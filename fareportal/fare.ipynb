{
 "cells": [
  {
   "cell_type": "code",
   "execution_count": 1,
   "metadata": {},
   "outputs": [],
   "source": [
    "import pandas as pd"
   ]
  },
  {
   "cell_type": "code",
   "execution_count": 2,
   "metadata": {},
   "outputs": [
    {
     "data": {
      "text/html": [
       "<div>\n",
       "<style scoped>\n",
       "    .dataframe tbody tr th:only-of-type {\n",
       "        vertical-align: middle;\n",
       "    }\n",
       "\n",
       "    .dataframe tbody tr th {\n",
       "        vertical-align: top;\n",
       "    }\n",
       "\n",
       "    .dataframe thead th {\n",
       "        text-align: right;\n",
       "    }\n",
       "</style>\n",
       "<table border=\"1\" class=\"dataframe\">\n",
       "  <thead>\n",
       "    <tr style=\"text-align: right;\">\n",
       "      <th></th>\n",
       "      <th>portal_id</th>\n",
       "      <th>searched_date</th>\n",
       "      <th>origin</th>\n",
       "      <th>destination</th>\n",
       "      <th>departure_date</th>\n",
       "      <th>return_date</th>\n",
       "      <th>number_of_adults</th>\n",
       "      <th>number_of_children</th>\n",
       "      <th>number_of_seniors</th>\n",
       "      <th>flight_class</th>\n",
       "      <th>cheapest_total_fare</th>\n",
       "      <th>cheapest_engine</th>\n",
       "      <th>unique_airlines</th>\n",
       "      <th>country_code</th>\n",
       "      <th>region</th>\n",
       "      <th>city</th>\n",
       "    </tr>\n",
       "  </thead>\n",
       "  <tbody>\n",
       "    <tr>\n",
       "      <th>0</th>\n",
       "      <td>92</td>\n",
       "      <td>2017-01-06</td>\n",
       "      <td>ZYR</td>\n",
       "      <td>BUD</td>\n",
       "      <td>2017-03-23</td>\n",
       "      <td>2017-03-25</td>\n",
       "      <td>1</td>\n",
       "      <td>0</td>\n",
       "      <td>0</td>\n",
       "      <td>1</td>\n",
       "      <td>271.799988</td>\n",
       "      <td>9</td>\n",
       "      <td>AF*KL  KL*AF  AF*SN  KL*SN  AF*LH  KL*LH  AF*AZ</td>\n",
       "      <td>-</td>\n",
       "      <td>-</td>\n",
       "      <td>-</td>\n",
       "    </tr>\n",
       "    <tr>\n",
       "      <th>1</th>\n",
       "      <td>92</td>\n",
       "      <td>2017-01-06</td>\n",
       "      <td>ZYL</td>\n",
       "      <td>DAC</td>\n",
       "      <td>2017-01-25</td>\n",
       "      <td>NaN</td>\n",
       "      <td>1</td>\n",
       "      <td>0</td>\n",
       "      <td>0</td>\n",
       "      <td>1</td>\n",
       "      <td>106.809998</td>\n",
       "      <td>9</td>\n",
       "      <td>BG</td>\n",
       "      <td>US</td>\n",
       "      <td>NEW JERSEY</td>\n",
       "      <td>WOODBRIDGE</td>\n",
       "    </tr>\n",
       "    <tr>\n",
       "      <th>2</th>\n",
       "      <td>200</td>\n",
       "      <td>2017-01-06</td>\n",
       "      <td>ZWS</td>\n",
       "      <td>NYC</td>\n",
       "      <td>2017-01-22</td>\n",
       "      <td>2017-05-30</td>\n",
       "      <td>1</td>\n",
       "      <td>0</td>\n",
       "      <td>0</td>\n",
       "      <td>1</td>\n",
       "      <td>523.660000</td>\n",
       "      <td>9</td>\n",
       "      <td>LH AB</td>\n",
       "      <td>-</td>\n",
       "      <td>-</td>\n",
       "      <td>-</td>\n",
       "    </tr>\n",
       "    <tr>\n",
       "      <th>3</th>\n",
       "      <td>92</td>\n",
       "      <td>2017-01-06</td>\n",
       "      <td>ZWI</td>\n",
       "      <td>SAV</td>\n",
       "      <td>2017-01-10</td>\n",
       "      <td>2017-01-19</td>\n",
       "      <td>1</td>\n",
       "      <td>0</td>\n",
       "      <td>0</td>\n",
       "      <td>1</td>\n",
       "      <td>372.899994</td>\n",
       "      <td>1</td>\n",
       "      <td>UA  UA*AA</td>\n",
       "      <td>-</td>\n",
       "      <td>-</td>\n",
       "      <td>-</td>\n",
       "    </tr>\n",
       "    <tr>\n",
       "      <th>4</th>\n",
       "      <td>92</td>\n",
       "      <td>2017-01-06</td>\n",
       "      <td>ZWE</td>\n",
       "      <td>NYC</td>\n",
       "      <td>2017-03-26</td>\n",
       "      <td>2017-04-04</td>\n",
       "      <td>1</td>\n",
       "      <td>0</td>\n",
       "      <td>0</td>\n",
       "      <td>1</td>\n",
       "      <td>546.059998</td>\n",
       "      <td>1</td>\n",
       "      <td>KL*AF</td>\n",
       "      <td>NL</td>\n",
       "      <td>ZUID-HOLLAND</td>\n",
       "      <td>DORDRECHT</td>\n",
       "    </tr>\n",
       "  </tbody>\n",
       "</table>\n",
       "</div>"
      ],
      "text/plain": [
       "   portal_id searched_date origin destination departure_date return_date  \\\n",
       "0         92    2017-01-06    ZYR         BUD     2017-03-23  2017-03-25   \n",
       "1         92    2017-01-06    ZYL         DAC     2017-01-25         NaN   \n",
       "2        200    2017-01-06    ZWS         NYC     2017-01-22  2017-05-30   \n",
       "3         92    2017-01-06    ZWI         SAV     2017-01-10  2017-01-19   \n",
       "4         92    2017-01-06    ZWE         NYC     2017-03-26  2017-04-04   \n",
       "\n",
       "   number_of_adults  number_of_children  number_of_seniors  flight_class  \\\n",
       "0                 1                   0                  0             1   \n",
       "1                 1                   0                  0             1   \n",
       "2                 1                   0                  0             1   \n",
       "3                 1                   0                  0             1   \n",
       "4                 1                   0                  0             1   \n",
       "\n",
       "   cheapest_total_fare  cheapest_engine  \\\n",
       "0           271.799988                9   \n",
       "1           106.809998                9   \n",
       "2           523.660000                9   \n",
       "3           372.899994                1   \n",
       "4           546.059998                1   \n",
       "\n",
       "                                   unique_airlines country_code        region  \\\n",
       "0  AF*KL  KL*AF  AF*SN  KL*SN  AF*LH  KL*LH  AF*AZ           -              -   \n",
       "1                                               BG           US    NEW JERSEY   \n",
       "2                                            LH AB           -              -   \n",
       "3                                        UA  UA*AA           -              -   \n",
       "4                                            KL*AF           NL  ZUID-HOLLAND   \n",
       "\n",
       "         city  \n",
       "0           -  \n",
       "1  WOODBRIDGE  \n",
       "2           -  \n",
       "3           -  \n",
       "4   DORDRECHT  "
      ]
     },
     "execution_count": 2,
     "metadata": {},
     "output_type": "execute_result"
    }
   ],
   "source": [
    "df = pd.read_csv('sample_searches.csv')\n",
    "df.head()"
   ]
  },
  {
   "cell_type": "code",
   "execution_count": 9,
   "metadata": {},
   "outputs": [
    {
     "data": {
      "text/plain": [
       "False"
      ]
     },
     "execution_count": 9,
     "metadata": {},
     "output_type": "execute_result"
    }
   ],
   "source": [
    "any(df.portal_id.isna())\n",
    "df.portal_id = df.portal_id.map(dict(zip(df.portal_id.unique(),range(10))))"
   ]
  },
  {
   "cell_type": "code",
   "execution_count": 13,
   "metadata": {},
   "outputs": [
    {
     "data": {
      "text/plain": [
       "0    10172\n",
       "2     9952\n",
       "3     2145\n",
       "1     1040\n",
       "6      837\n",
       "5      483\n",
       "7      417\n",
       "8       72\n",
       "4       68\n",
       "9       14\n",
       "Name: portal_id, dtype: int64"
      ]
     },
     "execution_count": 13,
     "metadata": {},
     "output_type": "execute_result"
    }
   ],
   "source": [
    "df.portal_id.value_counts()"
   ]
  },
  {
   "cell_type": "code",
   "execution_count": 14,
   "metadata": {},
   "outputs": [
    {
     "data": {
      "text/plain": [
       "DXB    14\n",
       "UIH    14\n",
       "RJK    14\n",
       "WDH    14\n",
       "ZYL    14\n",
       "OAK    14\n",
       "OAJ    14\n",
       "DRW    14\n",
       "ZYR    14\n",
       "DRO    14\n",
       "DRG    14\n",
       "OAX    14\n",
       "PIK    14\n",
       "PIB    14\n",
       "NSI    14\n",
       "NSN    14\n",
       "MYU    14\n",
       "RVN    14\n",
       "UIO    14\n",
       "UIN    14\n",
       "PIX    14\n",
       "MYJ    14\n",
       "PIS    14\n",
       "PIT    14\n",
       "PIU    14\n",
       "WMI    14\n",
       "RJL    14\n",
       "RJA    14\n",
       "EBL    14\n",
       "EBB    14\n",
       "       ..\n",
       "INL     1\n",
       "UNG     1\n",
       "ELD     1\n",
       "LDS     1\n",
       "EYK     1\n",
       "NNT     1\n",
       "HOT     1\n",
       "RNL     1\n",
       "MUN     1\n",
       "DOL     1\n",
       "RHI     1\n",
       "CIX     1\n",
       "PIN     1\n",
       "TFI     1\n",
       "ESL     1\n",
       "CIT     1\n",
       "KUD     1\n",
       "TCZ     1\n",
       "NUP     1\n",
       "LRS     1\n",
       "JKL     1\n",
       "VAK     1\n",
       "HXD     1\n",
       "CIJ     1\n",
       "RIS     1\n",
       "PCW     1\n",
       "LNE     1\n",
       "GPA     1\n",
       "EEK     1\n",
       "JUH     1\n",
       "Name: origin, Length: 2166, dtype: int64"
      ]
     },
     "execution_count": 14,
     "metadata": {},
     "output_type": "execute_result"
    }
   ],
   "source": [
    "df.origin.value_counts()"
   ]
  },
  {
   "cell_type": "markdown",
   "metadata": {},
   "source": [
    "# дата вылета - дата поиска\n"
   ]
  },
  {
   "cell_type": "code",
   "execution_count": null,
   "metadata": {},
   "outputs": [],
   "source": []
  },
  {
   "cell_type": "code",
   "execution_count": null,
   "metadata": {},
   "outputs": [],
   "source": []
  },
  {
   "cell_type": "code",
   "execution_count": null,
   "metadata": {},
   "outputs": [],
   "source": []
  }
 ],
 "metadata": {
  "kernelspec": {
   "display_name": "Python 2",
   "language": "python",
   "name": "python2"
  },
  "language_info": {
   "codemirror_mode": {
    "name": "ipython",
    "version": 2
   },
   "file_extension": ".py",
   "mimetype": "text/x-python",
   "name": "python",
   "nbconvert_exporter": "python",
   "pygments_lexer": "ipython2",
   "version": "2.7.12"
  }
 },
 "nbformat": 4,
 "nbformat_minor": 2
}
