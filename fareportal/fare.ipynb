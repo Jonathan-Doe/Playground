{
 "cells": [
  {
   "cell_type": "code",
   "execution_count": 1,
   "metadata": {},
   "outputs": [],
   "source": [
    "import pandas as pd"
   ]
  },
  {
   "cell_type": "code",
   "execution_count": 2,
   "metadata": {},
   "outputs": [
    {
     "data": {
      "text/html": [
       "<div>\n",
       "<style scoped>\n",
       "    .dataframe tbody tr th:only-of-type {\n",
       "        vertical-align: middle;\n",
       "    }\n",
       "\n",
       "    .dataframe tbody tr th {\n",
       "        vertical-align: top;\n",
       "    }\n",
       "\n",
       "    .dataframe thead th {\n",
       "        text-align: right;\n",
       "    }\n",
       "</style>\n",
       "<table border=\"1\" class=\"dataframe\">\n",
       "  <thead>\n",
       "    <tr style=\"text-align: right;\">\n",
       "      <th></th>\n",
       "      <th>portal_id</th>\n",
       "      <th>searched_date</th>\n",
       "      <th>origin</th>\n",
       "      <th>destination</th>\n",
       "      <th>departure_date</th>\n",
       "      <th>return_date</th>\n",
       "      <th>number_of_adults</th>\n",
       "      <th>number_of_children</th>\n",
       "      <th>number_of_seniors</th>\n",
       "      <th>flight_class</th>\n",
       "      <th>cheapest_total_fare</th>\n",
       "      <th>cheapest_engine</th>\n",
       "      <th>unique_airlines</th>\n",
       "      <th>country_code</th>\n",
       "      <th>region</th>\n",
       "      <th>city</th>\n",
       "    </tr>\n",
       "  </thead>\n",
       "  <tbody>\n",
       "    <tr>\n",
       "      <th>0</th>\n",
       "      <td>92</td>\n",
       "      <td>2017-01-06</td>\n",
       "      <td>ZYR</td>\n",
       "      <td>BUD</td>\n",
       "      <td>2017-03-23</td>\n",
       "      <td>2017-03-25</td>\n",
       "      <td>1</td>\n",
       "      <td>0</td>\n",
       "      <td>0</td>\n",
       "      <td>1</td>\n",
       "      <td>271.799988</td>\n",
       "      <td>9</td>\n",
       "      <td>AF*KL  KL*AF  AF*SN  KL*SN  AF*LH  KL*LH  AF*AZ</td>\n",
       "      <td>-</td>\n",
       "      <td>-</td>\n",
       "      <td>-</td>\n",
       "    </tr>\n",
       "    <tr>\n",
       "      <th>1</th>\n",
       "      <td>92</td>\n",
       "      <td>2017-01-06</td>\n",
       "      <td>ZYL</td>\n",
       "      <td>DAC</td>\n",
       "      <td>2017-01-25</td>\n",
       "      <td>NaN</td>\n",
       "      <td>1</td>\n",
       "      <td>0</td>\n",
       "      <td>0</td>\n",
       "      <td>1</td>\n",
       "      <td>106.809998</td>\n",
       "      <td>9</td>\n",
       "      <td>BG</td>\n",
       "      <td>US</td>\n",
       "      <td>NEW JERSEY</td>\n",
       "      <td>WOODBRIDGE</td>\n",
       "    </tr>\n",
       "    <tr>\n",
       "      <th>2</th>\n",
       "      <td>200</td>\n",
       "      <td>2017-01-06</td>\n",
       "      <td>ZWS</td>\n",
       "      <td>NYC</td>\n",
       "      <td>2017-01-22</td>\n",
       "      <td>2017-05-30</td>\n",
       "      <td>1</td>\n",
       "      <td>0</td>\n",
       "      <td>0</td>\n",
       "      <td>1</td>\n",
       "      <td>523.660000</td>\n",
       "      <td>9</td>\n",
       "      <td>LH AB</td>\n",
       "      <td>-</td>\n",
       "      <td>-</td>\n",
       "      <td>-</td>\n",
       "    </tr>\n",
       "    <tr>\n",
       "      <th>3</th>\n",
       "      <td>92</td>\n",
       "      <td>2017-01-06</td>\n",
       "      <td>ZWI</td>\n",
       "      <td>SAV</td>\n",
       "      <td>2017-01-10</td>\n",
       "      <td>2017-01-19</td>\n",
       "      <td>1</td>\n",
       "      <td>0</td>\n",
       "      <td>0</td>\n",
       "      <td>1</td>\n",
       "      <td>372.899994</td>\n",
       "      <td>1</td>\n",
       "      <td>UA  UA*AA</td>\n",
       "      <td>-</td>\n",
       "      <td>-</td>\n",
       "      <td>-</td>\n",
       "    </tr>\n",
       "    <tr>\n",
       "      <th>4</th>\n",
       "      <td>92</td>\n",
       "      <td>2017-01-06</td>\n",
       "      <td>ZWE</td>\n",
       "      <td>NYC</td>\n",
       "      <td>2017-03-26</td>\n",
       "      <td>2017-04-04</td>\n",
       "      <td>1</td>\n",
       "      <td>0</td>\n",
       "      <td>0</td>\n",
       "      <td>1</td>\n",
       "      <td>546.059998</td>\n",
       "      <td>1</td>\n",
       "      <td>KL*AF</td>\n",
       "      <td>NL</td>\n",
       "      <td>ZUID-HOLLAND</td>\n",
       "      <td>DORDRECHT</td>\n",
       "    </tr>\n",
       "  </tbody>\n",
       "</table>\n",
       "</div>"
      ],
      "text/plain": [
       "   portal_id searched_date origin destination departure_date return_date  \\\n",
       "0         92    2017-01-06    ZYR         BUD     2017-03-23  2017-03-25   \n",
       "1         92    2017-01-06    ZYL         DAC     2017-01-25         NaN   \n",
       "2        200    2017-01-06    ZWS         NYC     2017-01-22  2017-05-30   \n",
       "3         92    2017-01-06    ZWI         SAV     2017-01-10  2017-01-19   \n",
       "4         92    2017-01-06    ZWE         NYC     2017-03-26  2017-04-04   \n",
       "\n",
       "   number_of_adults  number_of_children  number_of_seniors  flight_class  \\\n",
       "0                 1                   0                  0             1   \n",
       "1                 1                   0                  0             1   \n",
       "2                 1                   0                  0             1   \n",
       "3                 1                   0                  0             1   \n",
       "4                 1                   0                  0             1   \n",
       "\n",
       "   cheapest_total_fare  cheapest_engine  \\\n",
       "0           271.799988                9   \n",
       "1           106.809998                9   \n",
       "2           523.660000                9   \n",
       "3           372.899994                1   \n",
       "4           546.059998                1   \n",
       "\n",
       "                                   unique_airlines country_code        region  \\\n",
       "0  AF*KL  KL*AF  AF*SN  KL*SN  AF*LH  KL*LH  AF*AZ           -              -   \n",
       "1                                               BG           US    NEW JERSEY   \n",
       "2                                            LH AB           -              -   \n",
       "3                                        UA  UA*AA           -              -   \n",
       "4                                            KL*AF           NL  ZUID-HOLLAND   \n",
       "\n",
       "         city  \n",
       "0           -  \n",
       "1  WOODBRIDGE  \n",
       "2           -  \n",
       "3           -  \n",
       "4   DORDRECHT  "
      ]
     },
     "execution_count": 2,
     "metadata": {},
     "output_type": "execute_result"
    }
   ],
   "source": [
    "df = pd.read_csv('sample_searches.csv')\n",
    "df.head()"
   ]
  },
  {
   "cell_type": "code",
   "execution_count": 3,
   "metadata": {},
   "outputs": [],
   "source": [
    "any(df.portal_id.isna())\n",
    "df.portal_id = df.portal_id.map(dict(zip(df.portal_id.unique(),range(10))))"
   ]
  },
  {
   "cell_type": "code",
   "execution_count": 4,
   "metadata": {},
   "outputs": [
    {
     "data": {
      "text/plain": [
       "0    10172\n",
       "2     9952\n",
       "3     2145\n",
       "1     1040\n",
       "6      837\n",
       "5      483\n",
       "7      417\n",
       "8       72\n",
       "4       68\n",
       "9       14\n",
       "Name: portal_id, dtype: int64"
      ]
     },
     "execution_count": 4,
     "metadata": {},
     "output_type": "execute_result"
    }
   ],
   "source": [
    "df.portal_id.value_counts()"
   ]
  },
  {
   "cell_type": "code",
   "execution_count": 7,
   "metadata": {},
   "outputs": [
    {
     "data": {
      "text/plain": [
       "array(['ZYR', 'ZYL', 'ZWS', ..., 'LKH', 'JEG', 'CKZ'], dtype=object)"
      ]
     },
     "execution_count": 7,
     "metadata": {},
     "output_type": "execute_result"
    }
   ],
   "source": [
    "df.origin.unique()"
   ]
  },
  {
   "cell_type": "code",
   "execution_count": 10,
   "metadata": {},
   "outputs": [
    {
     "data": {
      "text/plain": [
       "array([  9,   1,  10,  19,  26, 104,  29,   6,  23,  14, 100,  22,   2,\n",
       "        99, 105,  25,  20])"
      ]
     },
     "execution_count": 10,
     "metadata": {},
     "output_type": "execute_result"
    }
   ],
   "source": [
    "df.cheapest_engine.unique()"
   ]
  },
  {
   "cell_type": "code",
   "execution_count": 8,
   "metadata": {},
   "outputs": [],
   "source": [
    "df['total_passengers'] = df.number_of_adults + df.number_of_children + df.number_of_seniors"
   ]
  },
  {
   "cell_type": "markdown",
   "metadata": {},
   "source": [
    "# дата вылета - дата поиска\n"
   ]
  },
  {
   "cell_type": "markdown",
   "metadata": {},
   "source": [
    "# kmodes"
   ]
  },
  {
   "cell_type": "code",
   "execution_count": null,
   "metadata": {},
   "outputs": [],
   "source": []
  },
  {
   "cell_type": "code",
   "execution_count": null,
   "metadata": {},
   "outputs": [],
   "source": []
  }
 ],
 "metadata": {
  "kernelspec": {
   "display_name": "Python 2",
   "language": "python",
   "name": "python2"
  },
  "language_info": {
   "codemirror_mode": {
    "name": "ipython",
    "version": 2
   },
   "file_extension": ".py",
   "mimetype": "text/x-python",
   "name": "python",
   "nbconvert_exporter": "python",
   "pygments_lexer": "ipython2",
   "version": "2.7.12"
  }
 },
 "nbformat": 4,
 "nbformat_minor": 2
}
