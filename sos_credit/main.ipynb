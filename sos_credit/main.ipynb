{
 "cells": [
  {
   "cell_type": "code",
   "execution_count": 1,
   "metadata": {},
   "outputs": [],
   "source": [
    "import pandas as pd\n",
    "import seaborn as sns\n",
    "import matplotlib.pyplot as plt\n",
    "from sklearn.preprocessing import StandardScaler\n",
    "from sklearn.linear_model import LogisticRegressionCV\n",
    "from sklearn.metrics import classification_report\n",
    "import numpy as np"
   ]
  },
  {
   "cell_type": "code",
   "execution_count": 2,
   "metadata": {},
   "outputs": [
    {
     "data": {
      "text/html": [
       "<div>\n",
       "<style scoped>\n",
       "    .dataframe tbody tr th:only-of-type {\n",
       "        vertical-align: middle;\n",
       "    }\n",
       "\n",
       "    .dataframe tbody tr th {\n",
       "        vertical-align: top;\n",
       "    }\n",
       "\n",
       "    .dataframe thead th {\n",
       "        text-align: right;\n",
       "    }\n",
       "</style>\n",
       "<table border=\"1\" class=\"dataframe\">\n",
       "  <thead>\n",
       "    <tr style=\"text-align: right;\">\n",
       "      <th></th>\n",
       "      <th>appl_id</th>\n",
       "      <th>app_crtime</th>\n",
       "      <th>client_id</th>\n",
       "      <th>birth</th>\n",
       "      <th>gender</th>\n",
       "      <th>pass_bdate</th>\n",
       "      <th>fam_status</th>\n",
       "      <th>quantity_child</th>\n",
       "      <th>max_age_child</th>\n",
       "      <th>property</th>\n",
       "      <th>...</th>\n",
       "      <th>region_reg</th>\n",
       "      <th>jobsworksince</th>\n",
       "      <th>work_experience</th>\n",
       "      <th>empl_state</th>\n",
       "      <th>empl_type</th>\n",
       "      <th>empl_worker_count</th>\n",
       "      <th>education_area</th>\n",
       "      <th>education</th>\n",
       "      <th>monthlyincome</th>\n",
       "      <th>monthlycost</th>\n",
       "    </tr>\n",
       "  </thead>\n",
       "  <tbody>\n",
       "    <tr>\n",
       "      <th>0</th>\n",
       "      <td>1157589</td>\n",
       "      <td>2017-12-31T09:35:53Z</td>\n",
       "      <td>119804</td>\n",
       "      <td>1994-01-12</td>\n",
       "      <td>1</td>\n",
       "      <td>2010-10-08</td>\n",
       "      <td>4</td>\n",
       "      <td>1</td>\n",
       "      <td>3.0</td>\n",
       "      <td>5</td>\n",
       "      <td>...</td>\n",
       "      <td>10</td>\n",
       "      <td>NaN</td>\n",
       "      <td>3</td>\n",
       "      <td>4</td>\n",
       "      <td>NaN</td>\n",
       "      <td>NaN</td>\n",
       "      <td>7.0</td>\n",
       "      <td>2</td>\n",
       "      <td>15000.0</td>\n",
       "      <td>10000.0</td>\n",
       "    </tr>\n",
       "    <tr>\n",
       "      <th>1</th>\n",
       "      <td>1159012</td>\n",
       "      <td>2017-12-31T20:05:37Z</td>\n",
       "      <td>120147</td>\n",
       "      <td>1994-02-14</td>\n",
       "      <td>2</td>\n",
       "      <td>2010-04-06</td>\n",
       "      <td>4</td>\n",
       "      <td>0</td>\n",
       "      <td>0.0</td>\n",
       "      <td>5</td>\n",
       "      <td>...</td>\n",
       "      <td>11</td>\n",
       "      <td>2013-05-01</td>\n",
       "      <td>4</td>\n",
       "      <td>1</td>\n",
       "      <td>6.0</td>\n",
       "      <td>1.0</td>\n",
       "      <td>NaN</td>\n",
       "      <td>6</td>\n",
       "      <td>8000.0</td>\n",
       "      <td>6000.0</td>\n",
       "    </tr>\n",
       "    <tr>\n",
       "      <th>2</th>\n",
       "      <td>1157375</td>\n",
       "      <td>2017-12-31T08:18:56Z</td>\n",
       "      <td>119755</td>\n",
       "      <td>1984-10-20</td>\n",
       "      <td>2</td>\n",
       "      <td>2013-06-28</td>\n",
       "      <td>3</td>\n",
       "      <td>1</td>\n",
       "      <td>2.0</td>\n",
       "      <td>5</td>\n",
       "      <td>...</td>\n",
       "      <td>7</td>\n",
       "      <td>2015-12-01</td>\n",
       "      <td>10</td>\n",
       "      <td>1</td>\n",
       "      <td>10.0</td>\n",
       "      <td>6.0</td>\n",
       "      <td>6.0</td>\n",
       "      <td>7</td>\n",
       "      <td>15000.0</td>\n",
       "      <td>14000.0</td>\n",
       "    </tr>\n",
       "    <tr>\n",
       "      <th>3</th>\n",
       "      <td>1158541</td>\n",
       "      <td>2017-12-31T15:18:23Z</td>\n",
       "      <td>120042</td>\n",
       "      <td>1986-02-07</td>\n",
       "      <td>2</td>\n",
       "      <td>2012-09-27</td>\n",
       "      <td>4</td>\n",
       "      <td>0</td>\n",
       "      <td>0.0</td>\n",
       "      <td>5</td>\n",
       "      <td>...</td>\n",
       "      <td>10</td>\n",
       "      <td>2017-09-01</td>\n",
       "      <td>13</td>\n",
       "      <td>1</td>\n",
       "      <td>1.0</td>\n",
       "      <td>5.0</td>\n",
       "      <td>6.0</td>\n",
       "      <td>2</td>\n",
       "      <td>10000.0</td>\n",
       "      <td>5000.0</td>\n",
       "    </tr>\n",
       "    <tr>\n",
       "      <th>4</th>\n",
       "      <td>1157949</td>\n",
       "      <td>2017-12-31T11:25:38Z</td>\n",
       "      <td>119893</td>\n",
       "      <td>1992-06-26</td>\n",
       "      <td>2</td>\n",
       "      <td>2012-02-11</td>\n",
       "      <td>4</td>\n",
       "      <td>0</td>\n",
       "      <td>0.0</td>\n",
       "      <td>1</td>\n",
       "      <td>...</td>\n",
       "      <td>22</td>\n",
       "      <td>2014-08-01</td>\n",
       "      <td>3</td>\n",
       "      <td>1</td>\n",
       "      <td>10.0</td>\n",
       "      <td>5.0</td>\n",
       "      <td>3.0</td>\n",
       "      <td>1</td>\n",
       "      <td>7500.0</td>\n",
       "      <td>5000.0</td>\n",
       "    </tr>\n",
       "  </tbody>\n",
       "</table>\n",
       "<p>5 rows × 23 columns</p>\n",
       "</div>"
      ],
      "text/plain": [
       "   appl_id            app_crtime  client_id       birth  gender  pass_bdate  \\\n",
       "0  1157589  2017-12-31T09:35:53Z     119804  1994-01-12       1  2010-10-08   \n",
       "1  1159012  2017-12-31T20:05:37Z     120147  1994-02-14       2  2010-04-06   \n",
       "2  1157375  2017-12-31T08:18:56Z     119755  1984-10-20       2  2013-06-28   \n",
       "3  1158541  2017-12-31T15:18:23Z     120042  1986-02-07       2  2012-09-27   \n",
       "4  1157949  2017-12-31T11:25:38Z     119893  1992-06-26       2  2012-02-11   \n",
       "\n",
       "   fam_status  quantity_child  max_age_child  property     ...       \\\n",
       "0           4               1            3.0         5     ...        \n",
       "1           4               0            0.0         5     ...        \n",
       "2           3               1            2.0         5     ...        \n",
       "3           4               0            0.0         5     ...        \n",
       "4           4               0            0.0         1     ...        \n",
       "\n",
       "  region_reg jobsworksince  work_experience  empl_state empl_type  \\\n",
       "0         10           NaN                3           4       NaN   \n",
       "1         11    2013-05-01                4           1       6.0   \n",
       "2          7    2015-12-01               10           1      10.0   \n",
       "3         10    2017-09-01               13           1       1.0   \n",
       "4         22    2014-08-01                3           1      10.0   \n",
       "\n",
       "   empl_worker_count  education_area  education  monthlyincome  monthlycost  \n",
       "0                NaN             7.0          2        15000.0      10000.0  \n",
       "1                1.0             NaN          6         8000.0       6000.0  \n",
       "2                6.0             6.0          7        15000.0      14000.0  \n",
       "3                5.0             6.0          2        10000.0       5000.0  \n",
       "4                5.0             3.0          1         7500.0       5000.0  \n",
       "\n",
       "[5 rows x 23 columns]"
      ]
     },
     "execution_count": 2,
     "metadata": {},
     "output_type": "execute_result"
    }
   ],
   "source": [
    "X = pd.read_csv('appl_data.csv')\n",
    "behave_on_site = pd.read_csv('behav_on_site.csv')\n",
    "response = pd.read_csv('is_default.csv')\n",
    "X.head()"
   ]
  },
  {
   "cell_type": "code",
   "execution_count": 3,
   "metadata": {},
   "outputs": [
    {
     "data": {
      "image/png": "[encoded data removed]",
      "text/plain": [
       "<Figure size 864x648 with 1 Axes>"
      ]
     },
     "metadata": {
      "needs_background": "light"
     },
     "output_type": "display_data"
    }
   ],
   "source": [
    "plt.figure(figsize = (12,9))\n",
    "plt.title('Response distribution')\n",
    "data = pd.merge(left = X, right = response, how='left', on='appl_id')\n",
    "sns.countplot(data.df)\n",
    "plt.show()"
   ]
  },
  {
   "cell_type": "markdown",
   "metadata": {},
   "source": [
    "# Separate labeled data"
   ]
  },
  {
   "cell_type": "code",
   "execution_count": 4,
   "metadata": {},
   "outputs": [
    {
     "name": "stdout",
     "output_type": "stream",
     "text": [
      "(4002, 24)\n",
      "(4082, 23)\n"
     ]
    }
   ],
   "source": [
    "train = data[data.df.notnull()]\n",
    "test = data[data.df.isnull()].drop('df',axis = 1)\n",
    "print train.shape\n",
    "print test.shape"
   ]
  },
  {
   "cell_type": "code",
   "execution_count": 7,
   "metadata": {},
   "outputs": [
    {
     "data": {
      "text/plain": [
       "<matplotlib.axes._subplots.AxesSubplot at 0x7f8524e8fe90>"
      ]
     },
     "execution_count": 7,
     "metadata": {},
     "output_type": "execute_result"
    },
    {
     "data": {
      "image/png": "[encoded data removed]",
      "text/plain": [
       "<Figure size 432x288 with 1 Axes>"
      ]
     },
     "metadata": {
      "needs_background": "light"
     },
     "output_type": "display_data"
    }
   ],
   "source": [
    "sns.countplot(train.education_area)"
   ]
  },
  {
   "cell_type": "markdown",
   "metadata": {},
   "source": [
    "# Missing values\n"
   ]
  },
  {
   "cell_type": "code",
   "execution_count": 5,
   "metadata": {},
   "outputs": [
    {
     "data": {
      "text/plain": [
       "app_crtime                 0.0\n",
       "birth                      0.0\n",
       "gender                     0.0\n",
       "pass_bdate                 0.0\n",
       "fam_status                 0.0\n",
       "quantity_child             0.0\n",
       "property                   0.0\n",
       "lived_since                0.0\n",
       "is_same_reg_lived_since    0.0\n",
       "region                     0.0\n",
       "region_reg                 0.0\n",
       "work_experience            0.0\n",
       "empl_state                 0.0\n",
       "education                  0.0\n",
       "monthlyincome              0.0\n",
       "monthlycost                0.0\n",
       "df                         0.0\n",
       "dtype: float64"
      ]
     },
     "execution_count": 5,
     "metadata": {},
     "output_type": "execute_result"
    }
   ],
   "source": [
    "drops = ['appl_id','client_id','max_age_child', 'education_area', 'empl_type', 'empl_worker_count','jobsworksince']\n",
    "x = train.drop(drops, axis = 1)\n",
    "train.drop(drops, axis = 1).isna().sum() / train.shape[0]"
   ]
  },
  {
   "cell_type": "markdown",
   "metadata": {},
   "source": [
    "# Datetimes"
   ]
  },
  {
   "cell_type": "code",
   "execution_count": null,
   "metadata": {},
   "outputs": [],
   "source": [
    "dates = ['app_crtime', 'birth', 'pass_bdate', 'lived_since', 'is_same_reg_lived_since']\n",
    "x[dates] = x[dates].apply(pd.to_datetime)\n",
    "\n",
    "x['age'] = (x.app_crtime - x.birth).dt.days \n",
    "\n",
    "x['lived_since_days'] = (x.app_crtime - x.lived_since).dt.days \n",
    "\n",
    "x['reg_place_delta'] = (x.lived_since - x.is_same_reg_lived_since).dt.days\n",
    "\n",
    "plt.figure(figsize = (12,9))\n",
    "plt.title(\"Applicants age distribution\")\n",
    "sns.distplot(x.age, bins=20)\n",
    "plt.show()\n",
    "\n",
    "\n",
    "plt.figure(figsize = (12,9))\n",
    "plt.title(\"Application hourly distribution\")\n",
    "sns.countplot(x.app_crtime.dt.hour.values, color = 'lightblue')\n",
    "plt.show()"
   ]
  },
  {
   "cell_type": "code",
   "execution_count": null,
   "metadata": {},
   "outputs": [],
   "source": [
    "categoricals = ['gender','region','region_reg', 'fam_status', 'empl_state']\n",
    "\n",
    "ordinals = ['property','education']\n",
    "\n",
    "numericals = ['quantity_child','work_experience','monthlyincome','monthlycost',\n",
    "              'age','lived_since_days','reg_place_delta']"
   ]
  },
  {
   "cell_type": "code",
   "execution_count": null,
   "metadata": {},
   "outputs": [],
   "source": [
    "c = pd.get_dummies(x[categoricals].astype('object')).reset_index(drop = True)\n",
    "a = x[ordinals].reset_index(drop = True)\n",
    "\n",
    "scaler = StandardScaler()\n",
    "scaler.fit(x[numericals])\n",
    "\n",
    "b = scaler.transform(x[numericals])\n",
    "b = pd.DataFrame(b, columns = numericals)\n",
    "\n",
    "b.head()"
   ]
  },
  {
   "cell_type": "code",
   "execution_count": null,
   "metadata": {},
   "outputs": [],
   "source": [
    "train_df = pd.concat((a,b,c), axis = 1)"
   ]
  },
  {
   "cell_type": "code",
   "execution_count": null,
   "metadata": {},
   "outputs": [],
   "source": [
    "lr = LogisticRegressionCV(Cs=[np.logsp])\n",
    "X,Y = train_df, x.df"
   ]
  },
  {
   "cell_type": "code",
   "execution_count": null,
   "metadata": {},
   "outputs": [],
   "source": [
    "lr.fit(X,Y)"
   ]
  },
  {
   "cell_type": "code",
   "execution_count": null,
   "metadata": {},
   "outputs": [],
   "source": [
    "y_fitted = lr.predict(train_df)\n",
    "print classification_report(Y,y_fitted)"
   ]
  },
  {
   "cell_type": "code",
   "execution_count": null,
   "metadata": {},
   "outputs": [],
   "source": []
  }
 ],
 "metadata": {
  "kernelspec": {
   "display_name": "Python 2",
   "language": "python",
   "name": "python2"
  },
  "language_info": {
   "codemirror_mode": {
    "name": "ipython",
    "version": 2
   },
   "file_extension": ".py",
   "mimetype": "text/x-python",
   "name": "python",
   "nbconvert_exporter": "python",
   "pygments_lexer": "ipython2",
   "version": "2.7.15rc1"
  }
 },
 "nbformat": 4,
 "nbformat_minor": 2
}
