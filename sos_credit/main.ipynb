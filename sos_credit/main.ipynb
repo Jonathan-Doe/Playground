{
 "cells": [
  {
   "cell_type": "code",
   "execution_count": 1,
   "metadata": {},
   "outputs": [],
   "source": [
    "import pandas as pd\n",
    "import seaborn as sns\n",
    "import matplotlib.pyplot as plt\n",
    "from sklearn.preprocessing import StandardScaler\n",
    "from sklearn.linear_model import LogisticRegressionCV\n",
    "from sklearn.metrics import classification_report\n",
    "import numpy as np\n",
    "from sklearn.ensemble import RandomForestClassifier\n",
    "from sklearn.model_selection import train_test_split\n",
    "from sklearn.svm import SVC\n",
    "import datetime\n",
    "import warnings \n",
    "warnings.filterwarnings('ignore')"
   ]
  },
  {
   "cell_type": "markdown",
   "metadata": {},
   "source": [
    "# Read application, response and behavior data. Merge applications data with response"
   ]
  },
  {
   "cell_type": "code",
   "execution_count": 3,
   "metadata": {
    "scrolled": true
   },
   "outputs": [
    {
     "name": "stdout",
     "output_type": "stream",
     "text": [
      "(8084, 24)\n",
      "Number of unique applicants - 8084\n"
     ]
    },
    {
     "data": {
      "text/html": [
       "<div>\n",
       "<style scoped>\n",
       "    .dataframe tbody tr th:only-of-type {\n",
       "        vertical-align: middle;\n",
       "    }\n",
       "\n",
       "    .dataframe tbody tr th {\n",
       "        vertical-align: top;\n",
       "    }\n",
       "\n",
       "    .dataframe thead th {\n",
       "        text-align: right;\n",
       "    }\n",
       "</style>\n",
       "<table border=\"1\" class=\"dataframe\">\n",
       "  <thead>\n",
       "    <tr style=\"text-align: right;\">\n",
       "      <th></th>\n",
       "      <th>appl_id</th>\n",
       "      <th>app_crtime</th>\n",
       "      <th>client_id</th>\n",
       "      <th>birth</th>\n",
       "      <th>gender</th>\n",
       "      <th>pass_bdate</th>\n",
       "      <th>fam_status</th>\n",
       "      <th>quantity_child</th>\n",
       "      <th>max_age_child</th>\n",
       "      <th>property</th>\n",
       "      <th>...</th>\n",
       "      <th>jobsworksince</th>\n",
       "      <th>work_experience</th>\n",
       "      <th>empl_state</th>\n",
       "      <th>empl_type</th>\n",
       "      <th>empl_worker_count</th>\n",
       "      <th>education_area</th>\n",
       "      <th>education</th>\n",
       "      <th>monthlyincome</th>\n",
       "      <th>monthlycost</th>\n",
       "      <th>df</th>\n",
       "    </tr>\n",
       "  </thead>\n",
       "  <tbody>\n",
       "    <tr>\n",
       "      <th>0</th>\n",
       "      <td>1157589</td>\n",
       "      <td>2017-12-31T09:35:53Z</td>\n",
       "      <td>119804</td>\n",
       "      <td>1994-01-12</td>\n",
       "      <td>1</td>\n",
       "      <td>2010-10-08</td>\n",
       "      <td>4</td>\n",
       "      <td>1</td>\n",
       "      <td>3.0</td>\n",
       "      <td>5</td>\n",
       "      <td>...</td>\n",
       "      <td>NaN</td>\n",
       "      <td>3</td>\n",
       "      <td>4</td>\n",
       "      <td>NaN</td>\n",
       "      <td>NaN</td>\n",
       "      <td>7.0</td>\n",
       "      <td>2</td>\n",
       "      <td>15000.0</td>\n",
       "      <td>10000.0</td>\n",
       "      <td>NaN</td>\n",
       "    </tr>\n",
       "    <tr>\n",
       "      <th>1</th>\n",
       "      <td>1159012</td>\n",
       "      <td>2017-12-31T20:05:37Z</td>\n",
       "      <td>120147</td>\n",
       "      <td>1994-02-14</td>\n",
       "      <td>2</td>\n",
       "      <td>2010-04-06</td>\n",
       "      <td>4</td>\n",
       "      <td>0</td>\n",
       "      <td>0.0</td>\n",
       "      <td>5</td>\n",
       "      <td>...</td>\n",
       "      <td>2013-05-01</td>\n",
       "      <td>4</td>\n",
       "      <td>1</td>\n",
       "      <td>6.0</td>\n",
       "      <td>1.0</td>\n",
       "      <td>NaN</td>\n",
       "      <td>6</td>\n",
       "      <td>8000.0</td>\n",
       "      <td>6000.0</td>\n",
       "      <td>NaN</td>\n",
       "    </tr>\n",
       "    <tr>\n",
       "      <th>2</th>\n",
       "      <td>1157375</td>\n",
       "      <td>2017-12-31T08:18:56Z</td>\n",
       "      <td>119755</td>\n",
       "      <td>1984-10-20</td>\n",
       "      <td>2</td>\n",
       "      <td>2013-06-28</td>\n",
       "      <td>3</td>\n",
       "      <td>1</td>\n",
       "      <td>2.0</td>\n",
       "      <td>5</td>\n",
       "      <td>...</td>\n",
       "      <td>2015-12-01</td>\n",
       "      <td>10</td>\n",
       "      <td>1</td>\n",
       "      <td>10.0</td>\n",
       "      <td>6.0</td>\n",
       "      <td>6.0</td>\n",
       "      <td>7</td>\n",
       "      <td>15000.0</td>\n",
       "      <td>14000.0</td>\n",
       "      <td>NaN</td>\n",
       "    </tr>\n",
       "    <tr>\n",
       "      <th>3</th>\n",
       "      <td>1158541</td>\n",
       "      <td>2017-12-31T15:18:23Z</td>\n",
       "      <td>120042</td>\n",
       "      <td>1986-02-07</td>\n",
       "      <td>2</td>\n",
       "      <td>2012-09-27</td>\n",
       "      <td>4</td>\n",
       "      <td>0</td>\n",
       "      <td>0.0</td>\n",
       "      <td>5</td>\n",
       "      <td>...</td>\n",
       "      <td>2017-09-01</td>\n",
       "      <td>13</td>\n",
       "      <td>1</td>\n",
       "      <td>1.0</td>\n",
       "      <td>5.0</td>\n",
       "      <td>6.0</td>\n",
       "      <td>2</td>\n",
       "      <td>10000.0</td>\n",
       "      <td>5000.0</td>\n",
       "      <td>NaN</td>\n",
       "    </tr>\n",
       "    <tr>\n",
       "      <th>4</th>\n",
       "      <td>1157949</td>\n",
       "      <td>2017-12-31T11:25:38Z</td>\n",
       "      <td>119893</td>\n",
       "      <td>1992-06-26</td>\n",
       "      <td>2</td>\n",
       "      <td>2012-02-11</td>\n",
       "      <td>4</td>\n",
       "      <td>0</td>\n",
       "      <td>0.0</td>\n",
       "      <td>1</td>\n",
       "      <td>...</td>\n",
       "      <td>2014-08-01</td>\n",
       "      <td>3</td>\n",
       "      <td>1</td>\n",
       "      <td>10.0</td>\n",
       "      <td>5.0</td>\n",
       "      <td>3.0</td>\n",
       "      <td>1</td>\n",
       "      <td>7500.0</td>\n",
       "      <td>5000.0</td>\n",
       "      <td>NaN</td>\n",
       "    </tr>\n",
       "  </tbody>\n",
       "</table>\n",
       "<p>5 rows × 24 columns</p>\n",
       "</div>"
      ],
      "text/plain": [
       "   appl_id            app_crtime  client_id       birth  gender  pass_bdate  \\\n",
       "0  1157589  2017-12-31T09:35:53Z     119804  1994-01-12       1  2010-10-08   \n",
       "1  1159012  2017-12-31T20:05:37Z     120147  1994-02-14       2  2010-04-06   \n",
       "2  1157375  2017-12-31T08:18:56Z     119755  1984-10-20       2  2013-06-28   \n",
       "3  1158541  2017-12-31T15:18:23Z     120042  1986-02-07       2  2012-09-27   \n",
       "4  1157949  2017-12-31T11:25:38Z     119893  1992-06-26       2  2012-02-11   \n",
       "\n",
       "   fam_status  quantity_child  max_age_child  property ...  jobsworksince  \\\n",
       "0           4               1            3.0         5 ...            NaN   \n",
       "1           4               0            0.0         5 ...     2013-05-01   \n",
       "2           3               1            2.0         5 ...     2015-12-01   \n",
       "3           4               0            0.0         5 ...     2017-09-01   \n",
       "4           4               0            0.0         1 ...     2014-08-01   \n",
       "\n",
       "  work_experience  empl_state  empl_type empl_worker_count  education_area  \\\n",
       "0               3           4        NaN               NaN             7.0   \n",
       "1               4           1        6.0               1.0             NaN   \n",
       "2              10           1       10.0               6.0             6.0   \n",
       "3              13           1        1.0               5.0             6.0   \n",
       "4               3           1       10.0               5.0             3.0   \n",
       "\n",
       "   education  monthlyincome  monthlycost   df  \n",
       "0          2        15000.0      10000.0  NaN  \n",
       "1          6         8000.0       6000.0  NaN  \n",
       "2          7        15000.0      14000.0  NaN  \n",
       "3          2        10000.0       5000.0  NaN  \n",
       "4          1         7500.0       5000.0  NaN  \n",
       "\n",
       "[5 rows x 24 columns]"
      ]
     },
     "execution_count": 3,
     "metadata": {},
     "output_type": "execute_result"
    }
   ],
   "source": [
    "application_data = pd.read_csv('appl_data.csv')\n",
    "behave_on_site = pd.read_csv('behav_on_site.csv')\n",
    "response = pd.read_csv('is_default.csv')\n",
    "\n",
    "\n",
    "\n",
    "refs = behave_on_site.id_ref.unique()\n",
    "\n",
    "REFS = behave_on_site.id_ref.unique() ##\n",
    "REFS_VOCAB = dict(zip(refs, range(refs.shape[0])))\n",
    "\n",
    "\n",
    "\n",
    "\n",
    "X = pd.merge(left = application_data, right = response, how='left', on='appl_id')\n",
    "\n",
    "print X.shape\n",
    "print \"Number of unique applicants - {}\".format(X.client_id.unique().shape[0])\n",
    "X.head()"
   ]
  },
  {
   "cell_type": "code",
   "execution_count": 19,
   "metadata": {},
   "outputs": [],
   "source": [
    "def index_client_behav_data(application_data,behave_on_site, client_id):\n",
    "    \"This method select behav_on_site data (before the application) based on client id \"\n",
    "    \n",
    "    application_date = application_data[application_data.client_id == client_id].app_crtime.iloc[-1]\n",
    "    \n",
    "    filt_ = ( (behave_on_site.client_id == client_id) &\n",
    "                (behave_on_site.create_time <= application_date) )\n",
    "    \n",
    "    x = behave_on_site[ filt_ ].sort_values('create_time').reset_index(drop = True)\n",
    "    x.create_time = pd.to_datetime(x.create_time)\n",
    "    \n",
    "    return x\n",
    "\n",
    "def label_sessions(x):\n",
    "    td = x.create_time.diff() > pd.datetools.timedelta(minutes = 15)\n",
    "    browser = x.browser != x.browser.shift()\n",
    "    platform = x.platform != x.platform.shift()\n",
    "    device = x.device_id != x.device_id.shift()\n",
    "    x['session_id'] = (td | browser | platform | device).cumsum()\n",
    "    return x\n",
    "\n",
    "\n",
    "def get_session_duration(x):\n",
    "    start = min(x.create_time)\n",
    "    end = max(x.create_time)\n",
    "    duration_min = (end - start) / np.timedelta64(1, 'm')\n",
    "    return duration_min\n",
    "\n",
    "\n",
    "def get_platform_duration(application_data,behave_on_site,client_id):\n",
    "    platforms = behave_on_site.platform.unique()\n",
    "    platform_duration = dict(zip(platforms,np.zeros(platforms.shape[0])))\n",
    "    x = index_client_behav_data(application_data, behave_on_site, client_id)\n",
    "    label_sessions(x)\n",
    "    for id_ in x.session_id.unique():\n",
    "        tmp = x[x.session_id == id_]\n",
    "        platform_duration[x.platform[0]] += get_session_duration(tmp)\n",
    "    return platform_duration\n",
    "\n",
    "\n",
    "def get_browser_duration(application_data,behave_on_site,client_id):\n",
    "    browsers = behave_on_site.browser.unique()\n",
    "    browser_duration = dict(zip(browsers,np.zeros(browsers.shape[0])))\n",
    "    x = index_client_behav_data(application_data, behave_on_site, client_id)\n",
    "    label_sessions(x)\n",
    "    for id_ in x.session_id.unique():\n",
    "        tmp = x[x.session_id == id_]\n",
    "        browser_duration[x.browser[0]] += get_session_duration(tmp)\n",
    "    return browser_duration\n",
    "\n",
    "\n",
    "def get_n_sessions(application_data, behave_on_site, client_id):\n",
    "    x = index_client_behav_data(application_data, behave_on_site, client_id)\n",
    "    label_sessions(x)\n",
    "    return x.session_id.unique().shape[0]\n",
    "\n",
    "\n",
    "def create_refs_vector(application_data,behave_on_site, client_id):\n",
    "    refs_vector = np.zeros(REFS.shape[0])\n",
    "    x = index_client_behav_data(application_data,behave_on_site, client_id)\n",
    "    for ref in x.id_ref.values:\n",
    "        refs_vector[ REFS_VOCAB[ref] ] +=1\n",
    "    return refs_vector\n",
    "\n",
    "\n",
    "\n",
    "def get_info(application_data, behave_on_site, client_id):\n",
    "    '''\n",
    "       This method return information about all website behavoiur for given client id:\n",
    "       number of website sessions,\n",
    "       mean_session_duration\n",
    "    '''\n",
    "    \n",
    "    info = {}\n",
    "    info['client_id'] = client_id\n",
    "    \n",
    "    info['application_id'] = application_data[application_data.client_id == client_id].appl_id.iloc[0]\n",
    "    \n",
    "    info['n_sessions'] = get_n_sessions(application_data, behave_on_site, client_id)\n",
    "    \n",
    "    info['platform_duration'] = get_platform_duration(application_data, behave_on_site, client_id)\n",
    "    \n",
    "    info[\"browser_duration\"] = get_browser_duration(application_data, behave_on_site, client_id)\n",
    "    \n",
    "    info['ref_vector'] = create_refs_vector(application_data, behave_on_site, client_id)\n",
    "    \n",
    "    return info"
   ]
  },
  {
   "cell_type": "code",
   "execution_count": 20,
   "metadata": {},
   "outputs": [],
   "source": [
    "info = [ get_info(application_data, behave_on_site, client_id) \n",
    "                                 for client_id in X.client_id]\n",
    "\n",
    "behav_info = pd.DataFrame(info)"
   ]
  },
  {
   "cell_type": "markdown",
   "metadata": {},
   "source": [
    "# Time spent on website per browser"
   ]
  },
  {
   "cell_type": "code",
   "execution_count": 21,
   "metadata": {},
   "outputs": [
    {
     "data": {
      "image/png": "[encoded data removed]",
      "text/plain": [
       "<Figure size 864x648 with 1 Axes>"
      ]
     },
     "metadata": {
      "needs_background": "light"
     },
     "output_type": "display_data"
    }
   ],
   "source": [
    "browser_duration = pd.DataFrame(list(behav_info.browser_duration.values))\n",
    "plt.figure(figsize = (12,9))\n",
    "plt.title('Total time spent on website per browser' )\n",
    "plt.ylabel('Minutes')\n",
    "browser_duration.apply(sum).plot(kind = 'bar')\n",
    "browser_duration['favourite_browser'] = browser_duration.idxmax(axis =1)\n",
    "\n",
    "plt.show()"
   ]
  },
  {
   "cell_type": "code",
   "execution_count": 22,
   "metadata": {},
   "outputs": [],
   "source": [
    "browser_duration['appl_id'] = behav_info['application_id']\n",
    "browser_duration = pd.merge(left=browser_duration, right=response, how='left', on = 'appl_id')"
   ]
  },
  {
   "cell_type": "code",
   "execution_count": 34,
   "metadata": {},
   "outputs": [
    {
     "data": {
      "text/plain": [
       "<Figure size 864x648 with 0 Axes>"
      ]
     },
     "metadata": {},
     "output_type": "display_data"
    },
    {
     "data": {
      "image/png": "[encoded data removed]",
      "text/plain": [
       "<Figure size 432x288 with 1 Axes>"
      ]
     },
     "metadata": {
      "needs_background": "light"
     },
     "output_type": "display_data"
    }
   ],
   "source": [
    "plt.figure(figsize = (12,9))\n",
    "browser_duration.pivot_table('appl_id', 'favourite_browser', 'df', 'count').plot(kind = 'bar', stacked = True )\n",
    "plt.show()"
   ]
  },
  {
   "cell_type": "markdown",
   "metadata": {},
   "source": [
    "# Time spent on website per platform"
   ]
  },
  {
   "cell_type": "code",
   "execution_count": null,
   "metadata": {},
   "outputs": [],
   "source": [
    "platform_duration = pd.DataFrame(list(behav_info.platform_duration.values))\n",
    "plt.figure(figsize = (12,9))\n",
    "plt.title('Total time spent on website per platform' )\n",
    "plt.ylabel('Minutes')\n",
    "platform_duration.apply(sum).plot(kind = 'bar')\n",
    "plt.show()"
   ]
  },
  {
   "cell_type": "markdown",
   "metadata": {},
   "source": [
    "# Number of website sessions and mean duration distributions"
   ]
  },
  {
   "cell_type": "code",
   "execution_count": null,
   "metadata": {},
   "outputs": [],
   "source": [
    "plt.figure(figsize = (12,9))\n",
    "plt.title('Distribution of number of website sessions')\n",
    "plt.xlabel('# sessions')\n",
    "plt.ylabel('count')\n",
    "sns.distplot(behav_info.n_sessions, kde=False, bins = 50)\n",
    "plt.show()\n",
    "\n",
    "\n",
    "mean_duration = browser_duration.sum(axis = 1) / behav_info.n_sessions\n",
    "plt.figure(figsize = (12,9))\n",
    "plt.title('Distribution of session duration')\n",
    "sns.distplot(mean_duration, kde=False)\n",
    "plt.ylabel('Count')\n",
    "plt.xlabel('Duration minutes')\n",
    "plt.show()"
   ]
  },
  {
   "cell_type": "code",
   "execution_count": null,
   "metadata": {},
   "outputs": [],
   "source": []
  },
  {
   "cell_type": "code",
   "execution_count": null,
   "metadata": {},
   "outputs": [],
   "source": [
    " "
   ]
  },
  {
   "cell_type": "code",
   "execution_count": null,
   "metadata": {},
   "outputs": [],
   "source": [
    "duration"
   ]
  },
  {
   "cell_type": "code",
   "execution_count": null,
   "metadata": {},
   "outputs": [],
   "source": [
    "duration[0] / np.timedelta64(1, 'm') "
   ]
  },
  {
   "cell_type": "code",
   "execution_count": null,
   "metadata": {},
   "outputs": [],
   "source": [
    "x.create_time.sordiff() > pd.datetools.timedelta(minutes=5)"
   ]
  },
  {
   "cell_type": "code",
   "execution_count": null,
   "metadata": {},
   "outputs": [],
   "source": [
    "len(set(zip(session_day,session_hour)))"
   ]
  },
  {
   "cell_type": "code",
   "execution_count": null,
   "metadata": {},
   "outputs": [],
   "source": [
    "filt_ = (behave_on_site.client_id == X.client_id[123]) & (behave_on_site.create_time <= X.app_crtime[123]) \n",
    "x = behave_on_site[ filt_ ].sort_values('create_time').drop_duplicates(subset = 'create_time')\n",
    "session_day = x.create_time.astype('datetime64[ns]').dt.day\n",
    "session_hour = x.create_time.astype('datetime64[ns]').dt.hour\n",
    "n_sessions = len(set(zip(session_day,session_hour)))"
   ]
  },
  {
   "cell_type": "code",
   "execution_count": null,
   "metadata": {},
   "outputs": [],
   "source": [
    "client_id = X.client_id[0]\n",
    "filt_ = ( (behave_on_site.client_id == client_id) & \n",
    "                (behave_on_site.create_time <= \n",
    "                    str(application_data[application_data.client_id == client_id].app_crtime.values[0])))\n"
   ]
  },
  {
   "cell_type": "code",
   "execution_count": null,
   "metadata": {},
   "outputs": [],
   "source": []
  },
  {
   "cell_type": "markdown",
   "metadata": {},
   "source": [
    "# Divide data into labeled part( train set) and unlabeled part (test set)"
   ]
  },
  {
   "cell_type": "code",
   "execution_count": null,
   "metadata": {},
   "outputs": [],
   "source": [
    "plt.figure(figsize = (12,9))\n",
    "plt.title('Response distribution')\n",
    "\n",
    "sns.countplot(data.df)\n",
    "plt.show()"
   ]
  },
  {
   "cell_type": "code",
   "execution_count": null,
   "metadata": {},
   "outputs": [],
   "source": [
    "train = application_data[  application_data.df.notnull() ]\n",
    "test = application_data[  application_data.df.isnull() ].drop('df',axis = 1)\n",
    "\n",
    "print \"Train data shape - {}\".format(train.shape) \n",
    "print \"Test data shape - {}\".format(test.shape)"
   ]
  },
  {
   "cell_type": "code",
   "execution_count": null,
   "metadata": {},
   "outputs": [],
   "source": [
    "sns.countplot(train.education_area)"
   ]
  },
  {
   "cell_type": "markdown",
   "metadata": {},
   "source": [
    "# Missing values\n"
   ]
  },
  {
   "cell_type": "code",
   "execution_count": null,
   "metadata": {},
   "outputs": [],
   "source": [
    "drops = ['appl_id','client_id','max_age_child', 'education_area', 'empl_type', 'empl_worker_count','jobsworksince']\n",
    "x = train.drop(drops, axis = 1)\n",
    "train.drop(drops, axis = 1).isna().sum() / train.shape[0]"
   ]
  },
  {
   "cell_type": "markdown",
   "metadata": {},
   "source": [
    "# Datetimes"
   ]
  },
  {
   "cell_type": "code",
   "execution_count": null,
   "metadata": {},
   "outputs": [],
   "source": [
    "dates = ['app_crtime', 'birth', 'pass_bdate', 'lived_since', 'is_same_reg_lived_since']\n",
    "x[dates] = x[dates].apply(pd.to_datetime)\n",
    "\n",
    "x['age'] = (x.app_crtime - x.birth).dt.days \n",
    "\n",
    "x['lived_since_days'] = (x.app_crtime - x.lived_since).dt.days \n",
    "\n",
    "x['reg_place_delta'] = (x.lived_since - x.is_same_reg_lived_since).dt.days\n",
    "\n",
    "plt.figure(figsize = (12,9))\n",
    "plt.title(\"Applicants age distribution\")\n",
    "sns.distplot(x.age, bins=20)\n",
    "plt.show()\n",
    "\n",
    "\n",
    "plt.figure(figsize = (12,9))\n",
    "plt.title(\"Application hourly distribution\")\n",
    "sns.countplot(x.app_crtime.dt.hour.values, color = 'lightblue')\n",
    "plt.show()"
   ]
  },
  {
   "cell_type": "code",
   "execution_count": null,
   "metadata": {},
   "outputs": [],
   "source": [
    "categoricals = ['gender','region','region_reg', 'fam_status', 'empl_state']\n",
    "\n",
    "ordinals = ['property','education']\n",
    "\n",
    "numericals = ['quantity_child','work_experience','monthlyincome','monthlycost',\n",
    "              'age','lived_since_days','reg_place_delta']"
   ]
  },
  {
   "cell_type": "code",
   "execution_count": null,
   "metadata": {},
   "outputs": [],
   "source": [
    "c = pd.get_dummies(x[categoricals].astype('object')).reset_index(drop = True)\n",
    "a = x[ordinals].reset_index(drop = True)\n",
    "\n",
    "scaler = StandardScaler()\n",
    "scaler.fit(x[numericals])\n",
    "\n",
    "b = scaler.transform(x[numericals])\n",
    "b = pd.DataFrame(b, columns = numericals)\n",
    "\n",
    "b.head()"
   ]
  },
  {
   "cell_type": "code",
   "execution_count": null,
   "metadata": {},
   "outputs": [],
   "source": [
    "train_df = pd.concat((a,b,c), axis = 1)"
   ]
  },
  {
   "cell_type": "code",
   "execution_count": null,
   "metadata": {},
   "outputs": [],
   "source": [
    "lr = LogisticRegressionCV()\n",
    "X,Y = train_df, x.df.apply(lambda x: int(x == 'good'))\n",
    "\n",
    "X_train ,X_test, Y_train, Y_test = train_test_split(X,Y, stratify = Y)\n",
    "\n",
    "rf = RandomForestClassifier(n_estimators = 1000, max_depth= 25)"
   ]
  },
  {
   "cell_type": "code",
   "execution_count": null,
   "metadata": {},
   "outputs": [],
   "source": [
    "rf.fit(X_train, Y_train)\n",
    "\n",
    "y_fitted = rf.predict(X_train)\n",
    "print classification_report(Y_train,y_fitted)"
   ]
  },
  {
   "cell_type": "code",
   "execution_count": null,
   "metadata": {},
   "outputs": [],
   "source": [
    "y_pred = rf.predict(X_test)\n",
    "print classification_report(Y_test,y_pred)"
   ]
  },
  {
   "cell_type": "code",
   "execution_count": null,
   "metadata": {},
   "outputs": [],
   "source": []
  }
 ],
 "metadata": {
  "kernelspec": {
   "display_name": "Python 2",
   "language": "python",
   "name": "python2"
  },
  "language_info": {
   "codemirror_mode": {
    "name": "ipython",
    "version": 2
   },
   "file_extension": ".py",
   "mimetype": "text/x-python",
   "name": "python",
   "nbconvert_exporter": "python",
   "pygments_lexer": "ipython2",
   "version": "2.7.15rc1"
  }
 },
 "nbformat": 4,
 "nbformat_minor": 2
}
